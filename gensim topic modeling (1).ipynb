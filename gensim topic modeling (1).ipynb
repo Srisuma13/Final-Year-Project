{
 "cells": [
  {
   "cell_type": "code",
   "execution_count": 1,
   "metadata": {},
   "outputs": [
    {
     "name": "stderr",
     "output_type": "stream",
     "text": [
      "[nltk_data] Downloading package stopwords to\n",
      "[nltk_data]     /Users/srisuma/nltk_data...\n",
      "[nltk_data]   Package stopwords is already up-to-date!\n"
     ]
    }
   ],
   "source": [
    "# Run in python console\n",
    "import nltk; nltk.download('stopwords')\n",
    "import re\n",
    "import numpy as np\n",
    "import pandas as pd\n",
    "from pprint import pprint\n",
    "\n",
    "# Gensim\n",
    "import gensim\n",
    "import gensim.corpora as corpora\n",
    "from gensim.utils import simple_preprocess\n",
    "from gensim.models import CoherenceModel\n",
    "\n",
    "# spacy for lemmatization\n",
    "import spacy\n",
    "\n",
    "\n",
    "# Plotting tools\n",
    "import pyLDAvis\n",
    "import pyLDAvis.gensim  # don't skip this\n",
    "import matplotlib.pyplot as plt\n",
    "%matplotlib inline\n",
    "\n",
    "# Enable logging for gensim - optional\n",
    "import logging\n",
    "logging.basicConfig(format='%(asctime)s : %(levelname)s : %(message)s', level=logging.ERROR)\n",
    "\n",
    "import warnings\n",
    "warnings.filterwarnings(\"ignore\",category=DeprecationWarning)"
   ]
  },
  {
   "cell_type": "code",
   "execution_count": 2,
   "metadata": {},
   "outputs": [],
   "source": [
    "import pandas as pd\n",
    "\n",
    "data_full=pd.read_csv('Amazon_Unlocked_Mobile.csv',error_bad_lines=False)"
   ]
  },
  {
   "cell_type": "code",
   "execution_count": 3,
   "metadata": {},
   "outputs": [],
   "source": [
    "data_text = data_full[['Reviews']]\n",
    "data_text=data_text.iloc[:400000]"
   ]
  },
  {
   "cell_type": "code",
   "execution_count": 4,
   "metadata": {},
   "outputs": [
    {
     "name": "stdout",
     "output_type": "stream",
     "text": [
      "                                                  Reviews\n",
      "0       I feel so LUCKY to have found this used (phone...\n",
      "1       nice phone, nice up grade from my pantach revu...\n",
      "2                                            Very pleased\n",
      "3       It works good but it goes slow sometimes but i...\n",
      "4       Great phone to replace my lost phone. The only...\n",
      "...                                                   ...\n",
      "399995  Very disappointed... I had trouble sending pic...\n",
      "399996  I love all the features that this phone has. I...\n",
      "399997  pro:good lightingdecent battery lifecon:slow p...\n",
      "399998  I could never use the phone: be careful with w...\n",
      "399999                                         good phone\n",
      "\n",
      "[400000 rows x 1 columns]\n"
     ]
    }
   ],
   "source": [
    "pprint(data_text)"
   ]
  },
  {
   "cell_type": "code",
   "execution_count": 5,
   "metadata": {},
   "outputs": [
    {
     "name": "stdout",
     "output_type": "stream",
     "text": [
      "399938\n"
     ]
    }
   ],
   "source": [
    "data_text.head()\n",
    "data_text=data_text.dropna()\n",
    "print(len(data_text))"
   ]
  },
  {
   "cell_type": "code",
   "execution_count": 6,
   "metadata": {},
   "outputs": [],
   "source": [
    "# NLTK Stop words\n",
    "from nltk.corpus import stopwords\n",
    "stop_words = stopwords.words('english')\n",
    "stop_words.extend(['from', 'subject', 're', 'edu', 'use','phone','cellphone','smartphone','be','randomly','mom'])\n"
   ]
  },
  {
   "cell_type": "code",
   "execution_count": 7,
   "metadata": {},
   "outputs": [
    {
     "name": "stdout",
     "output_type": "stream",
     "text": [
      "['I feel so LUCKY to have found this used (phone to us & not used hard at '\n",
      " 'all), phone on line from someone who upgraded and sold this one. My Son '\n",
      " 'liked his old one that finally fell apart after 2.5+ years and didnt want an '\n",
      " 'upgrade!! Thank you Seller, we really appreciate it & your honesty re: said '\n",
      " 'used phone.I recommend this seller very highly & would but from them again!!']\n"
     ]
    }
   ],
   "source": [
    "# Convert to list\n",
    "data = data_text.Reviews.values.tolist()\n",
    "\n",
    "# Remove Emails\n",
    "data = [re.sub('\\S*@\\S*\\s?', '', sent) for sent in data]\n",
    "\n",
    "# Remove new line characters\n",
    "data = [re.sub('\\s+', ' ', sent) for sent in data]\n",
    "\n",
    "# Remove distracting single quotes\n",
    "data = [re.sub(\"\\'\", \"\", sent) for sent in data]\n",
    "\n",
    "pprint(data[:1])"
   ]
  },
  {
   "cell_type": "code",
   "execution_count": 8,
   "metadata": {},
   "outputs": [],
   "source": [
    "key_words=['screen','size','touch','battery','charge','charger','hours','power','life','camera','light','pictures','photos','front','rear']"
   ]
  },
  {
   "cell_type": "code",
   "execution_count": 9,
   "metadata": {},
   "outputs": [],
   "source": [
    "for ele in data:\n",
    "    if len(ele.split())<20:\n",
    "        data.remove(ele)\n",
    "    "
   ]
  },
  {
   "cell_type": "code",
   "execution_count": 83,
   "metadata": {},
   "outputs": [],
   "source": [
    "for sentence in data:\n",
    "    flag=0\n",
    "    for word in sentence:\n",
    "             if word in key_words:\n",
    "                    flag=1\n",
    "    if flag==0:\n",
    "        data.remove(sentence)"
   ]
  },
  {
   "cell_type": "code",
   "execution_count": 84,
   "metadata": {},
   "outputs": [
    {
     "name": "stdout",
     "output_type": "stream",
     "text": [
      "168163\n"
     ]
    }
   ],
   "source": [
    "print(len(data))"
   ]
  },
  {
   "cell_type": "code",
   "execution_count": 85,
   "metadata": {},
   "outputs": [],
   "source": [
    "def sent_to_words(sentences):\n",
    "    for sentence in sentences:\n",
    "        yield(gensim.utils.simple_preprocess(str(sentence), deacc=True)) "
   ]
  },
  {
   "cell_type": "code",
   "execution_count": 86,
   "metadata": {},
   "outputs": [
    {
     "name": "stdout",
     "output_type": "stream",
     "text": [
      "[['nice', 'phone', 'nice', 'up', 'grade', 'from', 'my', 'pantach', 'revue', 'very', 'clean', 'set', 'up', 'and', 'easy', 'set', 'up', 'never', 'had', 'an', 'android', 'phone', 'but', 'they', 'are', 'fantastic', 'to', 'say', 'the', 'least', 'perfect', 'size', 'for', 'surfing', 'and', 'social', 'media', 'great', 'phone', 'samsung']]\n"
     ]
    }
   ],
   "source": [
    "\n",
    "data_words = list(sent_to_words(data))\n",
    "\n",
    "print(data_words[:1])"
   ]
  },
  {
   "cell_type": "code",
   "execution_count": 87,
   "metadata": {},
   "outputs": [],
   "source": [
    "# Build the bigram and trigram models\n",
    "bigram = gensim.models.Phrases(data_words, min_count=5, threshold=100) # higher threshold fewer phrases.\n",
    "trigram = gensim.models.Phrases(bigram[data_words], threshold=100)  \n"
   ]
  },
  {
   "cell_type": "code",
   "execution_count": 88,
   "metadata": {},
   "outputs": [],
   "source": [
    "\n",
    "# Faster way to get a sentence clubbed as a trigram/bigram\n",
    "bigram_mod = gensim.models.phrases.Phraser(bigram)\n",
    "trigram_mod = gensim.models.phrases.Phraser(trigram)"
   ]
  },
  {
   "cell_type": "code",
   "execution_count": 89,
   "metadata": {},
   "outputs": [
    {
     "name": "stdout",
     "output_type": "stream",
     "text": [
      "['nice', 'phone', 'nice', 'up', 'grade', 'from', 'my', 'pantach', 'revue', 'very', 'clean', 'set', 'up', 'and', 'easy', 'set', 'up', 'never', 'had', 'an', 'android', 'phone', 'but', 'they', 'are', 'fantastic', 'to', 'say', 'the', 'least', 'perfect', 'size', 'for', 'surfing', 'and', 'social_media', 'great', 'phone', 'samsung']\n"
     ]
    }
   ],
   "source": [
    "\n",
    "# See trigram example\n",
    "print(trigram_mod[bigram_mod[data_words[0]]])"
   ]
  },
  {
   "cell_type": "code",
   "execution_count": 90,
   "metadata": {},
   "outputs": [],
   "source": [
    "# Define functions for stopwords, bigrams, trigrams and lemmatization\n",
    "def remove_stopwords(texts):\n",
    "    return [[word for word in simple_preprocess(str(doc)) if word not in stop_words] for doc in texts]"
   ]
  },
  {
   "cell_type": "code",
   "execution_count": 91,
   "metadata": {},
   "outputs": [],
   "source": [
    "def make_bigrams(texts):\n",
    "    return [bigram_mod[doc] for doc in texts]\n",
    "\n",
    "def make_trigrams(texts):\n",
    "    return [trigram_mod[bigram_mod[doc]] for doc in texts]"
   ]
  },
  {
   "cell_type": "code",
   "execution_count": 92,
   "metadata": {},
   "outputs": [],
   "source": [
    "\n",
    "def lemmatization(texts, allowed_postags=['NOUN', 'ADJ']):\n",
    "    \"\"\"https://spacy.io/api/annotation\"\"\"\n",
    "    texts_out = []\n",
    "    for sent in texts:\n",
    "        doc = nlp(\" \".join(sent)) \n",
    "        texts_out.append([token.lemma_ for token in doc if token.pos_ in allowed_postags])\n",
    "    return texts_out"
   ]
  },
  {
   "cell_type": "code",
   "execution_count": 93,
   "metadata": {},
   "outputs": [
    {
     "name": "stdout",
     "output_type": "stream",
     "text": [
      "[['nice', 'nice', 'grade', 'pantach', 'clean', 'easy', 'set', 'fantastic', 'perfect', 'size', 'great', 'samsung']]\n"
     ]
    }
   ],
   "source": [
    "# Remove Stop Words\n",
    "data_words_nostops = remove_stopwords(data_words)\n",
    "\n",
    "# Form Bigrams\n",
    "data_words_bigrams = make_bigrams(data_words_nostops)\n",
    "\n",
    "# Initialize spacy 'en' model, keeping only tagger component (for efficiency)\n",
    "# python3 -m spacy download en\n",
    "nlp = spacy.load('en', disable=['parser', 'ner'])\n",
    "\n",
    "# Do lemmatization keeping only noun, adj, vb, adv\n",
    "data_lemmatized = lemmatization(data_words_bigrams, allowed_postags=['NOUN', 'ADJ'])\n",
    "\n",
    "print(data_lemmatized[:1])"
   ]
  },
  {
   "cell_type": "code",
   "execution_count": 94,
   "metadata": {},
   "outputs": [
    {
     "name": "stdout",
     "output_type": "stream",
     "text": [
      "168163\n"
     ]
    }
   ],
   "source": [
    "print(len(data_words))"
   ]
  },
  {
   "cell_type": "code",
   "execution_count": 95,
   "metadata": {},
   "outputs": [
    {
     "name": "stdout",
     "output_type": "stream",
     "text": [
      "[[(0, 1), (1, 1), (2, 1), (3, 1), (4, 1), (5, 2), (6, 1), (7, 1), (8, 1), (9, 1), (10, 1)]]\n"
     ]
    }
   ],
   "source": [
    "# Create Dictionary\n",
    "id2word = corpora.Dictionary(data_lemmatized)\n",
    "\n",
    "# Create Corpus\n",
    "texts = data_lemmatized\n",
    "\n",
    "# Term Document Frequency\n",
    "corpus = [id2word.doc2bow(text) for text in texts]\n",
    "\n",
    "# View\n",
    "print(corpus[:1])"
   ]
  },
  {
   "cell_type": "code",
   "execution_count": 96,
   "metadata": {},
   "outputs": [
    {
     "data": {
      "text/plain": [
       "'clean'"
      ]
     },
     "execution_count": 96,
     "metadata": {},
     "output_type": "execute_result"
    }
   ],
   "source": [
    "id2word[0]"
   ]
  },
  {
   "cell_type": "code",
   "execution_count": 97,
   "metadata": {},
   "outputs": [
    {
     "data": {
      "text/plain": [
       "[[('clean', 1),\n",
       "  ('easy', 1),\n",
       "  ('fantastic', 1),\n",
       "  ('grade', 1),\n",
       "  ('great', 1),\n",
       "  ('nice', 2),\n",
       "  ('pantach', 1),\n",
       "  ('perfect', 1),\n",
       "  ('samsung', 1),\n",
       "  ('set', 1),\n",
       "  ('size', 1)]]"
      ]
     },
     "execution_count": 97,
     "metadata": {},
     "output_type": "execute_result"
    }
   ],
   "source": [
    "# Human readable format of corpus (term-frequency)\n",
    "[[(id2word[id], freq) for id, freq in cp] for cp in corpus[:1]]"
   ]
  },
  {
   "cell_type": "code",
   "execution_count": 98,
   "metadata": {},
   "outputs": [],
   "source": [
    "# Build LDA model\n",
    "lda_model = gensim.models.ldamodel.LdaModel(corpus=corpus,\n",
    "                                           id2word=id2word,\n",
    "                                           num_topics=10,\n",
    "                                 \n",
    "                                           random_state=100,\n",
    "                                           update_every=1,\n",
    "                                           chunksize=100,\n",
    "                                           passes=10,\n",
    "                                           alpha='auto',\n",
    "                                           per_word_topics=True)"
   ]
  },
  {
   "cell_type": "code",
   "execution_count": 99,
   "metadata": {
    "scrolled": true
   },
   "outputs": [
    {
     "name": "stdout",
     "output_type": "stream",
     "text": [
      "[(0,\n",
      "  '0.081*\"love\" + 0.059*\"bad\" + 0.056*\"android\" + 0.043*\"review\" + '\n",
      "  '0.043*\"version\" + 0.043*\"bit\" + 0.039*\"hand\" + 0.038*\"much\" + 0.026*\"sound\" '\n",
      "  '+ 0.025*\"awesome\"'),\n",
      " (1,\n",
      "  '0.053*\"app\" + 0.046*\"thing\" + 0.030*\"video\" + 0.027*\"year\" + 0.025*\"old\" + '\n",
      "  '0.024*\"hot\" + 0.024*\"compact\" + 0.023*\"easy\" + 0.022*\"design\" + '\n",
      "  '0.021*\"light\"'),\n",
      " (2,\n",
      "  '0.083*\"card\" + 0.045*\"sim\" + 0.045*\"long\" + 0.041*\"warranty\" + 0.041*\"able\" '\n",
      "  '+ 0.038*\"money\" + 0.034*\"return\" + 0.032*\"network\" + 0.024*\"store\" + '\n",
      "  '0.020*\"part\"'),\n",
      " (3,\n",
      "  '0.122*\"problem\" + 0.090*\"nice\" + 0.077*\"small\" + 0.065*\"big\" + 0.051*\"week\" '\n",
      "  '+ 0.046*\"many\" + 0.033*\"side\" + 0.033*\"right\" + 0.029*\"memory\" + '\n",
      "  '0.023*\"speed\"'),\n",
      " (4,\n",
      "  '0.043*\"feature\" + 0.043*\"size\" + 0.039*\"call\" + 0.032*\"charge\" + '\n",
      "  '0.032*\"case\" + 0.027*\"charger\" + 0.020*\"pocket\" + 0.018*\"full\" + '\n",
      "  '0.017*\"text\" + 0.016*\"touch\"'),\n",
      " (5,\n",
      "  '0.159*\"good\" + 0.126*\"great\" + 0.062*\"phone\" + 0.043*\"device\" + '\n",
      "  '0.028*\"fast\" + 0.028*\"well\" + 0.027*\"little\" + 0.025*\"price\" + '\n",
      "  '0.022*\"amazing\" + 0.021*\"software\"'),\n",
      " (6,\n",
      "  '0.155*\"screen\" + 0.092*\"time\" + 0.068*\"issue\" + 0.043*\"month\" + '\n",
      "  '0.031*\"button\" + 0.029*\"update\" + 0.027*\"last\" + 0.025*\"display\" + '\n",
      "  '0.024*\"first\" + 0.021*\"happy\"'),\n",
      " (7,\n",
      "  '0.136*\"camera\" + 0.095*\"day\" + 0.068*\"quality\" + 0.045*\"picture\" + '\n",
      "  '0.041*\"lot\" + 0.024*\"speaker\" + 0.024*\"low\" + 0.020*\"high\" + '\n",
      "  '0.020*\"beautiful\" + 0.014*\"internet\"'),\n",
      " (8,\n",
      "  '0.099*\"work\" + 0.094*\"product\" + 0.084*\"new\" + 0.050*\"mobile\" + '\n",
      "  '0.048*\"perfect\" + 0.046*\"seller\" + 0.045*\"service\" + 0.025*\"star\" + '\n",
      "  '0.025*\"customer\" + 0.023*\"sure\"'),\n",
      " (9,\n",
      "  '0.223*\"battery\" + 0.099*\"life\" + 0.094*\"excellent\" + 0.038*\"water\" + '\n",
      "  '0.037*\"people\" + 0.035*\"cell\" + 0.035*\"power\" + 0.032*\"fine\" + '\n",
      "  '0.021*\"brand\" + 0.020*\"point\"')]\n"
     ]
    }
   ],
   "source": [
    "# Print the Keyword in the 10 topics\n",
    "pprint(lda_model.print_topics())\n",
    "doc_lda = lda_model[corpus]"
   ]
  },
  {
   "cell_type": "code",
   "execution_count": 101,
   "metadata": {},
   "outputs": [
    {
     "name": "stdout",
     "output_type": "stream",
     "text": [
      "\n",
      "Perplexity:  -7.341749759191215\n",
      "\n",
      "Coherence Score:  0.6097044198029935\n"
     ]
    }
   ],
   "source": [
    "# Compute Perplexity\n",
    "print('\\nPerplexity: ', lda_model.log_perplexity(corpus))  # a measure of how good the model is. lower the better.\n",
    "\n",
    "# Compute Coherence Score\n",
    "coherence_model_lda = CoherenceModel(model=lda_model, texts=data_lemmatized, dictionary=id2word, coherence='c_v')\n",
    "coherence_lda = coherence_model_lda.get_coherence()\n",
    "print('\\nCoherence Score: ', coherence_lda)"
   ]
  },
  {
   "cell_type": "code",
   "execution_count": 67,
   "metadata": {},
   "outputs": [
    {
     "name": "stderr",
     "output_type": "stream",
     "text": [
      "/home/nikhithabalagani/ml/env/lib/python3.6/site-packages/pyLDAvis/_prepare.py:257: FutureWarning: Sorting because non-concatenation axis is not aligned. A future version\n",
      "of pandas will change to not sort by default.\n",
      "\n",
      "To accept the future behavior, pass 'sort=False'.\n",
      "\n",
      "To retain the current behavior and silence the warning, pass 'sort=True'.\n",
      "\n",
      "  return pd.concat([default_term_info] + list(topic_dfs))\n"
     ]
    },
    {
     "data": {
      "text/html": [
       "\n",
       "<link rel=\"stylesheet\" type=\"text/css\" href=\"https://cdn.rawgit.com/bmabey/pyLDAvis/files/ldavis.v1.0.0.css\">\n",
       "\n",
       "\n",
       "<div id=\"ldavis_el48371398884875022562086268813\"></div>\n",
       "<script type=\"text/javascript\">\n",
       "\n",
       "var ldavis_el48371398884875022562086268813_data = {\"mdsDat\": {\"x\": [-0.4333572724702475, -0.00027853591420131036, 0.06322041795372926, 0.013998432636656817, 0.05924196033197579, 0.06361537772712589, 0.06421048487904438, 0.06189685046333306, 0.055134186370671176, 0.052318098021912285], \"y\": [-0.013510802643637968, -0.19892105001542731, -0.033829122399323015, 0.4056024471455165, -0.033795536176677916, -0.026743177390826104, -0.022114279301614814, -0.02426093117150862, -0.02896711228143402, -0.023460435765066328], \"topics\": [1, 2, 3, 4, 5, 6, 7, 8, 9, 10], \"cluster\": [1, 1, 1, 1, 1, 1, 1, 1, 1, 1], \"Freq\": [18.647035598754883, 11.755056381225586, 11.711369514465332, 9.965907096862793, 9.107787132263184, 8.900707244873047, 8.49421215057373, 8.023774147033691, 7.468639850616455, 5.925512790679932]}, \"tinfo\": {\"Category\": [\"Default\", \"Default\", \"Default\", \"Default\", \"Default\", \"Default\", \"Default\", \"Default\", \"Default\", \"Default\", \"Default\", \"Default\", \"Default\", \"Default\", \"Default\", \"Default\", \"Default\", \"Default\", \"Default\", \"Default\", \"Default\", \"Default\", \"Default\", \"Default\", \"Default\", \"Default\", \"Default\", \"Default\", \"Default\", \"Default\", \"Topic1\", \"Topic1\", \"Topic1\", \"Topic1\", \"Topic1\", \"Topic1\", \"Topic1\", \"Topic1\", \"Topic1\", \"Topic1\", \"Topic1\", \"Topic1\", \"Topic1\", \"Topic1\", \"Topic1\", \"Topic1\", \"Topic1\", \"Topic1\", \"Topic1\", \"Topic1\", \"Topic1\", \"Topic1\", \"Topic1\", \"Topic1\", \"Topic1\", \"Topic1\", \"Topic1\", \"Topic1\", \"Topic1\", \"Topic1\", \"Topic2\", \"Topic2\", \"Topic2\", \"Topic2\", \"Topic2\", \"Topic2\", \"Topic2\", \"Topic2\", \"Topic2\", \"Topic2\", \"Topic2\", \"Topic2\", \"Topic2\", \"Topic2\", \"Topic2\", \"Topic2\", \"Topic2\", \"Topic2\", \"Topic2\", \"Topic2\", \"Topic2\", \"Topic2\", \"Topic2\", \"Topic2\", \"Topic2\", \"Topic2\", \"Topic2\", \"Topic2\", \"Topic2\", \"Topic2\", \"Topic3\", \"Topic3\", \"Topic3\", \"Topic3\", \"Topic3\", \"Topic3\", \"Topic3\", \"Topic3\", \"Topic3\", \"Topic3\", \"Topic3\", \"Topic3\", \"Topic3\", \"Topic3\", \"Topic3\", \"Topic3\", \"Topic3\", \"Topic3\", \"Topic3\", \"Topic3\", \"Topic3\", \"Topic3\", \"Topic3\", \"Topic3\", \"Topic3\", \"Topic3\", \"Topic3\", \"Topic3\", \"Topic3\", \"Topic3\", \"Topic4\", \"Topic4\", \"Topic4\", \"Topic4\", \"Topic4\", \"Topic4\", \"Topic4\", \"Topic4\", \"Topic4\", \"Topic4\", \"Topic4\", \"Topic4\", \"Topic4\", \"Topic4\", \"Topic4\", \"Topic4\", \"Topic4\", \"Topic4\", \"Topic4\", \"Topic4\", \"Topic4\", \"Topic4\", \"Topic4\", \"Topic4\", \"Topic4\", \"Topic4\", \"Topic4\", \"Topic4\", \"Topic4\", \"Topic4\", \"Topic5\", \"Topic5\", \"Topic5\", \"Topic5\", \"Topic5\", \"Topic5\", \"Topic5\", \"Topic5\", \"Topic5\", \"Topic5\", \"Topic5\", \"Topic5\", \"Topic5\", \"Topic5\", \"Topic5\", \"Topic5\", \"Topic5\", \"Topic5\", \"Topic5\", \"Topic5\", \"Topic5\", \"Topic5\", \"Topic5\", \"Topic5\", \"Topic5\", \"Topic5\", \"Topic5\", \"Topic5\", \"Topic5\", \"Topic5\", \"Topic6\", \"Topic6\", \"Topic6\", \"Topic6\", \"Topic6\", \"Topic6\", \"Topic6\", \"Topic6\", \"Topic6\", \"Topic6\", \"Topic6\", \"Topic6\", \"Topic6\", \"Topic6\", \"Topic6\", \"Topic6\", \"Topic6\", \"Topic6\", \"Topic6\", \"Topic6\", \"Topic6\", \"Topic6\", \"Topic6\", \"Topic6\", \"Topic6\", \"Topic6\", \"Topic6\", \"Topic6\", \"Topic6\", \"Topic6\", \"Topic7\", \"Topic7\", \"Topic7\", \"Topic7\", \"Topic7\", \"Topic7\", \"Topic7\", \"Topic7\", \"Topic7\", \"Topic7\", \"Topic7\", \"Topic7\", \"Topic7\", \"Topic7\", \"Topic7\", \"Topic7\", \"Topic7\", \"Topic7\", \"Topic7\", \"Topic7\", \"Topic7\", \"Topic7\", \"Topic7\", \"Topic7\", \"Topic7\", \"Topic7\", \"Topic7\", \"Topic7\", \"Topic7\", \"Topic7\", \"Topic8\", \"Topic8\", \"Topic8\", \"Topic8\", \"Topic8\", \"Topic8\", \"Topic8\", \"Topic8\", \"Topic8\", \"Topic8\", \"Topic8\", \"Topic8\", \"Topic8\", \"Topic8\", \"Topic8\", \"Topic8\", \"Topic8\", \"Topic8\", \"Topic8\", \"Topic8\", \"Topic8\", \"Topic8\", \"Topic8\", \"Topic8\", \"Topic8\", \"Topic8\", \"Topic8\", \"Topic8\", \"Topic8\", \"Topic8\", \"Topic9\", \"Topic9\", \"Topic9\", \"Topic9\", \"Topic9\", \"Topic9\", \"Topic9\", \"Topic9\", \"Topic9\", \"Topic9\", \"Topic9\", \"Topic9\", \"Topic9\", \"Topic9\", \"Topic9\", \"Topic9\", \"Topic9\", \"Topic9\", \"Topic9\", \"Topic9\", \"Topic9\", \"Topic9\", \"Topic9\", \"Topic9\", \"Topic9\", \"Topic9\", \"Topic9\", \"Topic9\", \"Topic9\", \"Topic9\", \"Topic10\", \"Topic10\", \"Topic10\", \"Topic10\", \"Topic10\", \"Topic10\", \"Topic10\", \"Topic10\", \"Topic10\", \"Topic10\", \"Topic10\", \"Topic10\", \"Topic10\", \"Topic10\", \"Topic10\", \"Topic10\", \"Topic10\", \"Topic10\", \"Topic10\", \"Topic10\", \"Topic10\", \"Topic10\", \"Topic10\", \"Topic10\", \"Topic10\", \"Topic10\", \"Topic10\", \"Topic10\", \"Topic10\", \"Topic10\", \"Topic10\"], \"Freq\": [3275.0, 2475.0, 2508.0, 1555.0, 1531.0, 1663.0, 1511.0, 1914.0, 1355.0, 1118.0, 1068.0, 1118.0, 1097.0, 1455.0, 969.0, 870.0, 771.0, 847.0, 818.0, 826.0, 890.0, 738.0, 734.0, 765.0, 661.0, 598.0, 602.0, 880.0, 878.0, 539.0, 1913.208740234375, 1454.1019287109375, 879.1791381835938, 877.3182983398438, 709.440185546875, 503.46832275390625, 481.9607238769531, 480.25616455078125, 463.1038818359375, 445.5070495605469, 412.12896728515625, 381.4759216308594, 313.8869323730469, 263.3099365234375, 247.76734924316406, 233.87112426757812, 206.29908752441406, 204.48782348632812, 199.95652770996094, 197.2247772216797, 195.58453369140625, 191.74801635742188, 186.9188690185547, 183.67115783691406, 178.98927307128906, 175.9739227294922, 173.31385803222656, 166.34628295898438, 158.5911102294922, 155.5360870361328, 2506.9560546875, 1662.7552490234375, 1510.7755126953125, 889.7156372070312, 536.0824584960938, 462.5008544921875, 288.9699401855469, 270.7647705078125, 206.69094848632812, 196.88546752929688, 178.06051635742188, 177.95098876953125, 177.73793029785156, 159.71534729003906, 144.66421508789062, 138.07400512695312, 88.26139068603516, 87.334228515625, 81.0199966430664, 78.03263854980469, 77.06564331054688, 67.7503662109375, 67.59357452392578, 57.95151138305664, 51.32093048095703, 50.699310302734375, 48.545204162597656, 51.77896499633789, 44.740570068359375, 42.26055908203125, 764.5610961914062, 471.5927429199219, 468.05841064453125, 460.1346740722656, 432.1669921875, 408.37310791015625, 400.8219909667969, 302.0211181640625, 235.385498046875, 233.2419891357422, 228.39434814453125, 206.5969696044922, 181.73973083496094, 172.15733337402344, 165.07769775390625, 165.0565948486328, 144.4867401123047, 127.56407928466797, 126.28291320800781, 124.9053955078125, 123.35106658935547, 122.4001235961914, 113.48829650878906, 105.6841812133789, 102.08087158203125, 98.22940826416016, 107.34191131591797, 93.47650909423828, 136.2925567626953, 83.90265655517578, 3273.867919921875, 1354.663818359375, 1117.206787109375, 1096.3927001953125, 259.1690979003906, 231.83433532714844, 204.07052612304688, 124.05655670166016, 116.88446044921875, 116.57450103759766, 108.52470397949219, 108.4166259765625, 104.54643249511719, 87.25835418701172, 76.08268737792969, 61.80098342895508, 51.89414978027344, 50.08740234375, 48.53591537475586, 42.43734359741211, 39.085601806640625, 38.995506286621094, 38.58249282836914, 38.041751861572266, 37.554317474365234, 34.93376922607422, 32.24531555175781, 32.23605728149414, 30.628267288208008, 29.14330291748047, 846.1035766601562, 825.2234497070312, 732.8699340820312, 485.4036560058594, 349.5850524902344, 270.5672912597656, 257.23638916015625, 256.362548828125, 214.0419158935547, 207.8258514404297, 205.66458129882812, 199.68946838378906, 184.5987548828125, 170.00608825683594, 163.9877166748047, 162.44627380371094, 159.253173828125, 148.51522827148438, 133.01004028320312, 120.56495666503906, 103.45417785644531, 102.63794708251953, 102.45671844482422, 97.7673110961914, 91.54059600830078, 87.45942687988281, 76.79108428955078, 71.69700622558594, 71.4127197265625, 68.41107177734375, 1529.9166259765625, 817.5825805664062, 537.9705810546875, 395.2353820800781, 293.20074462890625, 274.3009338378906, 232.5035858154297, 206.7852783203125, 191.22113037109375, 169.0640869140625, 161.750244140625, 150.47824096679688, 133.39376831054688, 115.93285369873047, 114.13536834716797, 110.85795593261719, 107.86712646484375, 99.13255310058594, 96.8755111694336, 79.41639709472656, 78.76296997070312, 76.24391174316406, 75.10536193847656, 69.87142944335938, 68.89111328125, 64.48430633544922, 62.69017791748047, 62.21126937866211, 58.26517868041992, 55.107452392578125, 1553.852783203125, 968.7405395507812, 736.9318237304688, 660.2045288085938, 601.3070068359375, 516.8477172851562, 245.09718322753906, 226.9677276611328, 189.56253051757812, 120.72301483154297, 110.08812713623047, 99.1600341796875, 87.1301498413086, 76.82538604736328, 66.72293853759766, 63.00720977783203, 61.61775588989258, 60.42829513549805, 60.35051727294922, 57.647769927978516, 54.36985397338867, 53.28292465209961, 50.48234558105469, 46.52668380737305, 43.932682037353516, 43.364593505859375, 43.80013656616211, 43.5799446105957, 42.06685256958008, 41.188392639160156, 1117.38623046875, 597.4917602539062, 474.637939453125, 460.1817321777344, 449.07763671875, 304.0355224609375, 233.99891662597656, 210.7864532470703, 181.72964477539062, 173.70559692382812, 158.88975524902344, 155.75706481933594, 153.33790588378906, 129.02076721191406, 113.0756607055664, 103.16919708251953, 89.59062957763672, 84.469482421875, 81.68289947509766, 78.41431427001953, 76.67829895019531, 74.8000259399414, 70.77086639404297, 70.31520080566406, 69.81420135498047, 68.68360137939453, 62.39152145385742, 61.63443374633789, 59.19834518432617, 57.69412612915039, 1067.255615234375, 869.2042846679688, 386.2893371582031, 274.0330505371094, 265.341064453125, 263.2115478515625, 233.83740234375, 218.46690368652344, 211.15504455566406, 194.9205322265625, 185.69398498535156, 148.7269744873047, 142.00108337402344, 105.06159973144531, 103.83960723876953, 90.32381439208984, 84.78007507324219, 84.50186920166016, 84.33708953857422, 83.19253540039062, 72.24951934814453, 72.25613403320312, 64.05286407470703, 62.015838623046875, 58.25912094116211, 56.571598052978516, 55.553138732910156, 53.226318359375, 52.508827209472656, 50.99644088745117, 2474.633544921875, 770.4495239257812, 327.6151428222656, 191.68295288085938, 124.58580780029297, 82.85102844238281, 73.58137512207031, 68.775146484375, 66.40709686279297, 62.58931350708008, 59.839176177978516, 52.563899993896484, 51.60070037841797, 50.09857177734375, 45.70646286010742, 43.25724411010742, 39.64662551879883, 39.39561080932617, 38.654396057128906, 37.444610595703125, 34.525508880615234, 32.546749114990234, 32.44074249267578, 30.3017635345459, 24.12795639038086, 23.48674964904785, 22.055559158325195, 21.78495979309082, 21.811656951904297, 20.345050811767578, 20.572280883789062], \"Term\": [\"great\", \"new\", \"good\", \"product\", \"time\", \"work\", \"condition\", \"screen\", \"problem\", \"charger\", \"seller\", \"price\", \"love\", \"apple\", \"card\", \"day\", \"brand\", \"perfect\", \"month\", \"happy\", \"iphone\", \"excellent\", \"purchase\", \"issue\", \"sim\", \"daughter\", \"unlocked\", \"fast\", \"battery\", \"money\", \"screen\", \"apple\", \"fast\", \"battery\", \"phone\", \"quality\", \"small\", \"big\", \"little\", \"description\", \"call\", \"bad\", \"app\", \"right\", \"picture\", \"one\", \"full\", \"key\", \"useless\", \"enough\", \"text\", \"top\", \"many\", \"memory\", \"camera\", \"bit\", \"couple\", \"short\", \"disappointed\", \"life\", \"good\", \"work\", \"condition\", \"iphone\", \"service\", \"scratch\", \"nice\", \"replacement\", \"awesome\", \"storage\", \"network\", \"buying\", \"low\", \"cell\", \"mistake\", \"skeptical\", \"support\", \"reasonable\", \"space\", \"protector\", \"package\", \"provider\", \"downside\", \"photo\", \"single_scratch\", \"useful\", \"annoying\", \"effective\", \"refurbished\", \"get\", \"issue\", \"way\", \"lot\", \"review\", \"item\", \"able\", \"thing\", \"deal\", \"cheap\", \"well\", \"search\", \"friend\", \"experience\", \"switch\", \"plastic\", \"sound\", \"update\", \"help\", \"horrible\", \"plan\", \"people\", \"speaker\", \"wonderful\", \"fix\", \"local\", \"ill\", \"primary\", \"guy\", \"listing\", \"open\", \"great\", \"problem\", \"price\", \"love\", \"carrier\", \"worth\", \"device\", \"shape\", \"clean\", \"person\", \"business\", \"earphone\", \"value\", \"contract\", \"extra\", \"bill\", \"task\", \"dent\", \"line\", \"hassle\", \"nervous\", \"bottom\", \"arrive\", \"impressed\", \"wireless\", \"granddaughter\", \"kit\", \"tear\", \"static\", \"present\", \"perfect\", \"happy\", \"purchase\", \"shipping\", \"old\", \"mobile\", \"easy\", \"sure\", \"model\", \"unlock\", \"wrong\", \"number\", \"expectation\", \"half\", \"son\", \"company\", \"power\", \"refund\", \"upgrade\", \"replace\", \"button\", \"sprint\", \"fit\", \"fact\", \"yesterday\", \"date\", \"speed\", \"att\", \"dollar\", \"previous\", \"time\", \"month\", \"money\", \"much\", \"first\", \"return\", \"part\", \"warranty\", \"charge\", \"cable\", \"long\", \"overall\", \"repair\", \"trouble\", \"question\", \"junk\", \"water\", \"waste\", \"several\", \"pay\", \"read\", \"less\", \"real\", \"computer\", \"expensive\", \"system\", \"kid\", \"turn\", \"upset\", \"unusable\", \"product\", \"card\", \"excellent\", \"sim\", \"unlocked\", \"thank\", \"gift\", \"box\", \"defective\", \"account\", \"surprise\", \"cord\", \"function\", \"amount\", \"frustrating\", \"program\", \"described\", \"solution\", \"metro_pc\", \"unsatisfied\", \"recommend\", \"amazon\", \"activation\", \"unlimited\", \"communication\", \"online\", \"significant\", \"hurry\", \"reliable\", \"due\", \"charger\", \"daughter\", \"week\", \"store\", \"case\", \"year\", \"minor\", \"original\", \"color\", \"last\", \"amazing\", \"today\", \"customer\", \"minute\", \"sister\", \"access\", \"damage\", \"email\", \"white\", \"gig\", \"regular\", \"broken\", \"pink\", \"unable\", \"connect\", \"mention\", \"blue\", \"major\", \"expense\", \"dirty\", \"seller\", \"day\", \"star\", \"delivery\", \"quick\", \"pleased\", \"headphone\", \"buy\", \"satisfied\", \"order\", \"accessory\", \"hour\", \"side\", \"contact\", \"broke\", \"flawless\", \"certain\", \"datum\", \"glass\", \"next\", \"working\", \"notice\", \"noticeable\", \"excelent\", \"info\", \"reason\", \"self\", \"hard\", \"clarity\", \"car\", \"new\", \"brand\", \"fine\", \"complaint\", \"verizon\", \"look\", \"set\", \"thought\", \"capacity\", \"song\", \"claim\", \"cause\", \"current\", \"charm\", \"vendor\", \"microphone\", \"heavy\", \"crap\", \"wish\", \"shut\", \"grandson\", \"letter\", \"cover\", \"plugged\", \"sweet\", \"insurance\", \"selling\", \"lock\", \"shoddy\", \"okay\", \"unused\"], \"Total\": [3275.0, 2475.0, 2508.0, 1555.0, 1531.0, 1663.0, 1511.0, 1914.0, 1355.0, 1118.0, 1068.0, 1118.0, 1097.0, 1455.0, 969.0, 870.0, 771.0, 847.0, 818.0, 826.0, 890.0, 738.0, 734.0, 765.0, 661.0, 598.0, 602.0, 880.0, 878.0, 539.0, 1914.37158203125, 1455.2647705078125, 880.342041015625, 878.4811401367188, 710.6030883789062, 504.6311950683594, 483.12371826171875, 481.4191589355469, 464.26678466796875, 446.6700134277344, 413.29180908203125, 382.6386413574219, 315.0496520996094, 264.4728088378906, 248.93026733398438, 235.03399658203125, 207.46188354492188, 205.653564453125, 201.1194610595703, 198.38766479492188, 196.74755859375, 192.91082763671875, 188.08169555664062, 184.8340301513672, 180.15208435058594, 177.13677978515625, 174.47669982910156, 167.50929260253906, 159.75404357910156, 156.69882202148438, 2508.14599609375, 1663.945068359375, 1511.96533203125, 890.905517578125, 537.2723388671875, 463.6907958984375, 290.1596984863281, 271.9546813964844, 207.8807373046875, 198.07542419433594, 179.25039672851562, 179.14080810546875, 178.92774963378906, 160.90518188476562, 145.85494995117188, 139.26406860351562, 89.45147705078125, 88.52429962158203, 82.2105941772461, 79.22260284423828, 78.25537872314453, 68.94015502929688, 68.78360748291016, 59.14134216308594, 52.515464782714844, 51.89997863769531, 49.73512268066406, 53.13347625732422, 45.930686950683594, 43.45035171508789, 765.7288208007812, 472.7606201171875, 469.22613525390625, 461.3024597167969, 433.3346252441406, 409.5408630371094, 401.98974609375, 303.18890380859375, 236.55323791503906, 234.40965270996094, 229.58082580566406, 207.7647247314453, 182.907470703125, 173.32553100585938, 166.2454071044922, 166.224365234375, 145.65451049804688, 128.73175048828125, 127.45064544677734, 126.07308959960938, 124.5187759399414, 123.56779479980469, 114.656005859375, 106.8519058227539, 103.24897003173828, 99.39716339111328, 108.64633178710938, 94.64420318603516, 138.14456176757812, 85.07038879394531, 3275.07275390625, 1355.86865234375, 1118.41162109375, 1097.5975341796875, 260.3738708496094, 233.039306640625, 205.2753143310547, 125.26127624511719, 118.08926391601562, 117.77930450439453, 109.72952270507812, 109.62147521972656, 105.7511978149414, 88.46310424804688, 77.28742218017578, 63.01178741455078, 53.107906341552734, 51.29219055175781, 49.74080276489258, 43.64211654663086, 40.2906379699707, 40.20051574707031, 39.787635803222656, 39.2466926574707, 38.75910568237305, 36.138614654541016, 33.45039367675781, 33.44084930419922, 31.833213806152344, 30.348052978515625, 847.2876586914062, 826.4075317382812, 734.0540161132812, 486.58770751953125, 350.7690734863281, 271.7514343261719, 258.4204406738281, 257.5466003417969, 215.22593688964844, 209.00997924804688, 206.84860229492188, 200.87362670898438, 185.78280639648438, 171.19085693359375, 165.17173767089844, 163.6302947998047, 160.43719482421875, 149.69923400878906, 134.19435119628906, 121.74897003173828, 104.63813018798828, 103.82202911376953, 103.6409912109375, 98.95137023925781, 92.72482299804688, 88.6434555053711, 77.9752197265625, 72.88111114501953, 72.5967788696289, 69.5950698852539, 1531.1019287109375, 818.767822265625, 539.1558227539062, 396.42071533203125, 294.3860168457031, 275.486083984375, 233.68881225585938, 207.9705047607422, 192.40631103515625, 170.24928283691406, 162.93568420410156, 151.6636962890625, 134.5789794921875, 117.11820983886719, 115.3208999633789, 112.043212890625, 109.0524673461914, 100.31771087646484, 98.06083679199219, 80.60160827636719, 79.94876098632812, 77.42911529541016, 76.29081726074219, 71.05767822265625, 70.07633972167969, 65.66958618164062, 63.87542724609375, 63.39649963378906, 59.45162582397461, 56.292816162109375, 1555.056396484375, 969.9439697265625, 738.1353149414062, 661.4080200195312, 602.510498046875, 518.0512084960938, 246.30067443847656, 228.1712188720703, 190.76611328125, 121.92652893066406, 111.29170989990234, 100.36366271972656, 88.33370971679688, 78.02899169921875, 67.92667388916016, 64.2109146118164, 62.822025299072266, 61.63316345214844, 61.55482482910156, 58.852413177490234, 55.57331466674805, 54.48636245727539, 51.68611145019531, 47.73243713378906, 45.136356353759766, 44.56801986694336, 45.02071762084961, 44.80478286743164, 43.270877838134766, 42.39171600341797, 1118.5792236328125, 598.6847534179688, 475.8309326171875, 461.37469482421875, 450.2706298828125, 305.228515625, 235.19200134277344, 211.97938537597656, 182.92263793945312, 174.89857482910156, 160.08282470703125, 156.95028686523438, 154.5309600830078, 130.2136688232422, 114.26905822753906, 104.36652374267578, 90.78369903564453, 85.66268157958984, 82.87593078613281, 79.60749816894531, 77.87123107910156, 75.99305725097656, 71.96391296386719, 71.50821685791016, 71.00728607177734, 69.87716674804688, 63.584651947021484, 62.828922271728516, 60.392333984375, 58.88706970214844, 1068.4407958984375, 870.3895874023438, 387.47467041015625, 275.2183532714844, 266.52642822265625, 264.3970642089844, 235.0226287841797, 219.6521453857422, 212.34027099609375, 196.10580444335938, 186.87924194335938, 149.91217041015625, 143.1865234375, 106.24691772460938, 105.02507019042969, 91.50924682617188, 85.9653549194336, 85.6875991821289, 85.52259826660156, 84.3777847290039, 73.43470764160156, 73.44236755371094, 65.23820495605469, 63.20106506347656, 59.44459533691406, 57.756744384765625, 56.738555908203125, 54.411521911621094, 53.71870803833008, 52.18182373046875, 2475.82861328125, 771.6444091796875, 328.8100891113281, 192.87794494628906, 125.78072357177734, 84.04590606689453, 74.77635192871094, 69.97022247314453, 67.60211181640625, 63.784950256347656, 61.03429412841797, 53.75889587402344, 52.7959098815918, 51.298439025878906, 46.901275634765625, 44.452247619628906, 40.841793060302734, 40.59065246582031, 39.84947967529297, 38.63945388793945, 35.72077560424805, 33.74176788330078, 33.635616302490234, 31.496912002563477, 25.32436752319336, 24.6821231842041, 23.25071907043457, 22.979949951171875, 23.043869018554688, 21.540361404418945, 21.78801918029785], \"loglift\": [30.0, 29.0, 28.0, 27.0, 26.0, 25.0, 24.0, 23.0, 22.0, 21.0, 20.0, 19.0, 18.0, 17.0, 16.0, 15.0, 14.0, 13.0, 12.0, 11.0, 10.0, 9.0, 8.0, 7.0, 6.0, 5.0, 4.0, 3.0, 2.0, 1.0, 1.6789000034332275, 1.6786999702453613, 1.6782000064849854, 1.6782000064849854, 1.6778000593185425, 1.6771999597549438, 1.6770999431610107, 1.6770999431610107, 1.6770000457763672, 1.676900029182434, 1.6766999959945679, 1.6763999462127686, 1.6757999658584595, 1.6750999689102173, 1.6748000383377075, 1.6744999885559082, 1.6739000082015991, 1.673799991607666, 1.673699975013733, 1.6735999584197998, 1.6735999584197998, 1.6734000444412231, 1.67330002784729, 1.673200011253357, 1.6729999780654907, 1.6728999614715576, 1.6727999448776245, 1.6725000143051147, 1.6721999645233154, 1.6720000505447388, 2.140399932861328, 2.140199899673462, 2.1401000022888184, 2.1396000385284424, 2.138700008392334, 2.1382999420166016, 2.1368000507354736, 2.1364998817443848, 2.1350998878479004, 2.1349000930786133, 2.134200096130371, 2.134200096130371, 2.134200096130371, 2.133500099182129, 2.132699966430664, 2.1322999000549316, 2.127500057220459, 2.1273999214172363, 2.126300096511841, 2.1257998943328857, 2.1256000995635986, 2.123500108718872, 2.1233999729156494, 2.1205999851226807, 2.1178998947143555, 2.117500066757202, 2.1166999340057373, 2.1150999069213867, 2.1145999431610107, 2.113100051879883, 2.1431000232696533, 2.1421000957489014, 2.1421000957489014, 2.1421000957489014, 2.141900062561035, 2.1417999267578125, 2.141700029373169, 2.1407999992370605, 2.139699935913086, 2.1396000385284424, 2.139400005340576, 2.1389999389648438, 2.138200044631958, 2.1377999782562256, 2.1375999450683594, 2.1375999450683594, 2.1366000175476074, 2.135499954223633, 2.1354000568389893, 2.1352999210357666, 2.135200023651123, 2.1350998878479004, 2.134399890899658, 2.1335999965667725, 2.13319993019104, 2.1328001022338867, 2.132499933242798, 2.132200002670288, 2.1310999393463135, 2.1308000087738037, 2.3055999279022217, 2.3050999641418457, 2.3048999309539795, 2.3048999309539795, 2.3013999462127686, 2.300800085067749, 2.300100088119507, 2.296299934387207, 2.2957000732421875, 2.2957000732421875, 2.2950000762939453, 2.2948999404907227, 2.2945001125335693, 2.29229998588562, 2.290299892425537, 2.286600112915039, 2.282900094985962, 2.2822000980377197, 2.2815001010894775, 2.2780001163482666, 2.275599956512451, 2.275599956512451, 2.2751998901367188, 2.2748000621795654, 2.274399995803833, 2.2720999717712402, 2.2692999839782715, 2.2692999839782715, 2.267400026321411, 2.265500068664551, 2.3945999145507812, 2.3945999145507812, 2.394399881362915, 2.3935999870300293, 2.392699956893921, 2.391700029373169, 2.391400098800659, 2.391400098800659, 2.390500068664551, 2.390399932861328, 2.3903000354766846, 2.3901000022888184, 2.3896000385284424, 2.3891000747680664, 2.3887999057769775, 2.3887999057769775, 2.3886001110076904, 2.3880999088287354, 2.387200117111206, 2.3863000869750977, 2.384700059890747, 2.3845999240875244, 2.384500026702881, 2.384000062942505, 2.38319993019104, 2.3826000690460205, 2.38070011138916, 2.379699945449829, 2.3796000480651855, 2.3789000511169434, 2.418299913406372, 2.41759991645813, 2.416800022125244, 2.4159998893737793, 2.4149999618530273, 2.4147000312805176, 2.4140000343322754, 2.413300037384033, 2.412899971008301, 2.412100076675415, 2.4117000102996826, 2.4112000465393066, 2.4102001190185547, 2.408900022506714, 2.4086999893188477, 2.408400058746338, 2.408099889755249, 2.4072000980377197, 2.406899929046631, 2.4042000770568848, 2.404099941253662, 2.403599977493286, 2.40339994430542, 2.4021999835968018, 2.4019999504089355, 2.4007999897003174, 2.4003000259399414, 2.4001998901367188, 2.398900032043457, 2.3977999687194824, 2.4649999141693115, 2.4644999504089355, 2.464200019836426, 2.4639999866485596, 2.4637999534606934, 2.4635000228881836, 2.460900068283081, 2.4605000019073486, 2.4595000743865967, 2.455899953842163, 2.454900026321411, 2.453700065612793, 2.4521000385284424, 2.450200080871582, 2.4479000568389893, 2.446899890899658, 2.4463999271392822, 2.446000099182129, 2.446000099182129, 2.4451000690460205, 2.4439001083374023, 2.44350004196167, 2.442199945449829, 2.440200090408325, 2.438800096511841, 2.4384000301361084, 2.4382998943328857, 2.4381000995635986, 2.4375998973846436, 2.437000036239624, 2.521699905395508, 2.5208001136779785, 2.5202999114990234, 2.52020001411438, 2.5201001167297363, 2.5188000202178955, 2.517699956893921, 2.5171000957489014, 2.516200065612793, 2.515899896621704, 2.5153000354766846, 2.5151000022888184, 2.515000104904175, 2.5136001110076904, 2.5123000144958496, 2.511199951171875, 2.509500026702881, 2.508699893951416, 2.5083000659942627, 2.507699966430664, 2.5072999000549316, 2.5069000720977783, 2.50600004196167, 2.5058999061584473, 2.5058000087738037, 2.505500078201294, 2.5037999153137207, 2.5035998821258545, 2.5027999877929688, 2.5023000240325928, 2.5933001041412354, 2.593100070953369, 2.591399908065796, 2.590100049972534, 2.5899999141693115, 2.5899999141693115, 2.589400053024292, 2.5889999866485596, 2.588900089263916, 2.588399887084961, 2.588099956512451, 2.5864999294281006, 2.5861001014709473, 2.583199977874756, 2.5831000804901123, 2.581399917602539, 2.5806000232696533, 2.5804998874664307, 2.5804998874664307, 2.5803000926971436, 2.578200101852417, 2.578200101852417, 2.5761001110076904, 2.575500011444092, 2.5743000507354736, 2.573699951171875, 2.5732998847961426, 2.5724000930786133, 2.571700096130371, 2.571500062942505, 2.8254001140594482, 2.824399948120117, 2.8222999572753906, 2.819700002670288, 2.8164000511169434, 2.8115999698638916, 2.809799909591675, 2.8087000846862793, 2.8080999851226807, 2.806999921798706, 2.8060998916625977, 2.8034000396728516, 2.802999973297119, 2.8022000789642334, 2.800100088119507, 2.7987000942230225, 2.7962000370025635, 2.7960000038146973, 2.7955000400543213, 2.7945001125335693, 2.7918999195098877, 2.789799928665161, 2.7897000312805176, 2.7871999740600586, 2.7774999141693115, 2.7762999534606934, 2.773099899291992, 2.7725000381469727, 2.770900011062622, 2.7688000202178955, 2.7685000896453857], \"logprob\": [30.0, 29.0, 28.0, 27.0, 26.0, 25.0, 24.0, 23.0, 22.0, 21.0, 20.0, 19.0, 18.0, 17.0, 16.0, 15.0, 14.0, 13.0, 12.0, 11.0, 10.0, 9.0, 8.0, 7.0, 6.0, 5.0, 4.0, 3.0, 2.0, 1.0, -2.2948999404907227, -2.5692999362945557, -3.072499990463257, -3.0745999813079834, -3.2869999408721924, -3.6298999786376953, -3.6735999584198, -3.6770999431610107, -3.7135000228881836, -3.75219988822937, -3.8301000595092773, -3.907399892807007, -4.102399826049805, -4.27810001373291, -4.339000225067139, -4.396699905395508, -4.52209997177124, -4.530900001525879, -4.553299903869629, -4.5671000480651855, -4.575500011444092, -4.595300197601318, -4.620800018310547, -4.638299942016602, -4.664100170135498, -4.681099891662598, -4.696300029754639, -4.737400054931641, -4.785099983215332, -4.804599761962891, -1.5631999969482422, -1.9737999439239502, -2.069700002670288, -2.599100112915039, -3.105799913406372, -3.2534000873565674, -3.7237000465393066, -3.788800001144409, -4.058800220489502, -4.107399940490723, -4.207900047302246, -4.208499908447266, -4.209700107574463, -4.316699981689453, -4.415599822998047, -4.462299823760986, -4.9096999168396, -4.920300006866455, -4.9953999519348145, -5.032899856567383, -5.045400142669678, -5.174200057983398, -5.176499843597412, -5.330399990081787, -5.451900005340576, -5.464099884033203, -5.507599830627441, -5.4430999755859375, -5.589200019836426, -5.646200180053711, -2.746999979019165, -3.2302000522613525, -3.2376999855041504, -3.2548000812530518, -3.317500114440918, -3.3740999698638916, -3.3928000926971436, -3.675800085067749, -3.925100088119507, -3.9342000484466553, -3.955199956893921, -4.055600166320801, -4.183700084686279, -4.2378997802734375, -4.279900074005127, -4.28000020980835, -4.413099765777588, -4.537700176239014, -4.547800064086914, -4.558800220489502, -4.571300029754639, -4.578999996185303, -4.654600143432617, -4.725900173187256, -4.7606000900268555, -4.798999786376953, -4.710299968719482, -4.848599910736084, -4.471499919891357, -4.956699848175049, -1.1311999559402466, -2.0136001110076904, -2.2063000202178955, -2.2251999378204346, -3.6675000190734863, -3.778899908065796, -3.9065001010894775, -4.404200077056885, -4.463699817657471, -4.466400146484375, -4.538000106811523, -4.539000034332275, -4.575300216674805, -4.756100177764893, -4.893099784851074, -5.10099983215332, -5.275700092315674, -5.311200141906738, -5.342599868774414, -5.476900100708008, -5.559199810028076, -5.561500072479248, -5.5721001625061035, -5.58620023727417, -5.599100112915039, -5.671500205993652, -5.7515997886657715, -5.751800060272217, -5.802999973297119, -5.852700233459473, -2.3942999839782715, -2.4191999435424805, -2.537899971008301, -2.949899911880493, -3.27810001373291, -3.53439998626709, -3.58489990234375, -3.5882999897003174, -3.768699884414673, -3.7981998920440674, -3.8085999488830566, -3.838099956512451, -3.9166998863220215, -3.9990999698638916, -4.035099983215332, -4.04449987411499, -4.0644001960754395, -4.134200096130371, -4.244500160217285, -4.342700004577637, -4.495800018310547, -4.503699779510498, -4.505499839782715, -4.552299976348877, -4.618100166320801, -4.663700103759766, -4.793799877166748, -4.862400054931641, -4.866399765014648, -4.90939998626709, -1.7789000272750854, -2.4054999351501465, -2.8241000175476074, -3.1324000358581543, -3.430999994277954, -3.4976999759674072, -3.6630001068115234, -3.7802000045776367, -3.8585000038146973, -3.981600046157837, -4.0258002281188965, -4.098100185394287, -4.218599796295166, -4.35890007019043, -4.374499797821045, -4.403600215911865, -4.431000232696533, -4.515399932861328, -4.53849983215332, -4.737199783325195, -4.7453999519348145, -4.7779998779296875, -4.793000221252441, -4.865200042724609, -4.87939977645874, -4.945499897003174, -4.973700046539307, -4.981400012969971, -5.046899795532227, -5.10260009765625, -1.7166999578475952, -2.189199924468994, -2.4626998901367188, -2.5725998878479004, -2.6659998893737793, -2.8173999786376953, -3.563499927520752, -3.6403000354766846, -3.8203999996185303, -4.271599769592285, -4.363900184631348, -4.468400001525879, -4.597700119018555, -4.723599910736084, -4.86460018157959, -4.921899795532227, -4.944200038909912, -4.963699817657471, -4.965000152587891, -5.010799884796143, -5.069300174713135, -5.0894999504089355, -5.143499851226807, -5.225100040435791, -5.28249979019165, -5.295499801635742, -5.2855000495910645, -5.290599822998047, -5.325900077819824, -5.3470001220703125, -1.989400029182434, -2.6154000759124756, -2.845599889755249, -2.876499891281128, -2.9010000228881836, -3.2909998893737793, -3.5529000759124756, -3.6572999954223633, -3.8057000637054443, -3.850800037384033, -3.940000057220459, -3.95989990234375, -3.9755001068115234, -4.148200035095215, -4.280099868774414, -4.371799945831299, -4.512899875640869, -4.571800231933594, -4.605299949645996, -4.646200180053711, -4.668600082397461, -4.693399906158447, -4.748700141906738, -4.755199909210205, -4.76230001449585, -4.77869987487793, -4.87470006942749, -4.88700008392334, -4.927299976348877, -4.953000068664551, -1.9636000394821167, -2.1689000129699707, -2.9798998832702637, -3.323199987411499, -3.3554999828338623, -3.3635001182556152, -3.481800079345703, -3.549799919128418, -3.583899974822998, -3.6638998985290527, -3.712399959564209, -3.9344000816345215, -3.980600118637085, -4.281899929046631, -4.293600082397461, -4.43310022354126, -4.496399879455566, -4.49970006942749, -4.501699924468994, -4.5152997970581055, -4.656300067901611, -4.656300067901611, -4.776800155639648, -4.809100151062012, -4.871600151062012, -4.901000022888184, -4.919099807739258, -4.961900234222412, -4.975500106811523, -5.004700183868408, -0.8912000060081482, -2.0580999851226807, -2.9131999015808105, -3.449199914932251, -3.880000114440918, -4.288000106811523, -4.406599998474121, -4.4741997718811035, -4.509200096130371, -4.568399906158447, -4.613399982452393, -4.743000030517578, -4.761499881744385, -4.790999889373779, -4.882800102233887, -4.937900066375732, -5.025000095367432, -5.031400203704834, -5.0503997802734375, -5.082200050354004, -5.163300037384033, -5.222400188446045, -5.225599765777588, -5.293799877166748, -5.521699905395508, -5.548600196838379, -5.611499786376953, -5.623799800872803, -5.622600078582764, -5.692200183868408, -5.681099891662598]}, \"token.table\": {\"Topic\": [3, 8, 9, 7, 7, 8, 7, 7, 2, 1, 1, 4, 5, 2, 1, 1, 1, 4, 1, 8, 4, 7, 10, 9, 8, 4, 5, 9, 2, 6, 1, 1, 10, 9, 7, 4, 8, 10, 2, 9, 6, 8, 10, 3, 10, 9, 4, 8, 7, 5, 10, 6, 2, 8, 9, 4, 7, 1, 10, 10, 10, 8, 8, 5, 9, 8, 9, 3, 7, 9, 4, 7, 1, 4, 8, 1, 5, 2, 7, 4, 5, 2, 8, 1, 9, 7, 5, 8, 6, 3, 4, 5, 1, 10, 6, 5, 3, 9, 3, 7, 1, 7, 2, 7, 8, 9, 2, 4, 10, 4, 3, 5, 5, 9, 4, 9, 10, 3, 3, 9, 7, 3, 4, 9, 10, 2, 3, 3, 6, 1, 6, 4, 8, 6, 10, 1, 4, 3, 1, 3, 10, 6, 10, 3, 4, 2, 8, 1, 1, 8, 7, 10, 8, 8, 2, 5, 5, 6, 6, 6, 4, 2, 10, 9, 2, 9, 9, 5, 10, 5, 1, 7, 3, 9, 8, 6, 2, 6, 6, 3, 5, 4, 1, 2, 1, 8, 3, 3, 9, 10, 5, 4, 5, 4, 3, 4, 7, 7, 2, 2, 5, 1, 6, 9, 6, 6, 9, 2, 7, 5, 2, 8, 7, 6, 5, 2, 6, 3, 1, 9, 2, 1, 3, 9, 9, 10, 2, 10, 6, 4, 5, 10, 1, 10, 9, 7, 7, 2, 8, 2, 1, 7, 5, 10, 3, 2, 3, 5, 5, 9, 4, 2, 8, 2, 5, 7, 10, 3, 6, 4, 4, 1, 7, 3, 10, 6, 8, 1, 6, 6, 8, 7, 5, 7, 7, 6, 10, 3, 5, 6, 2, 1, 4, 10, 10, 6, 6, 6, 3, 8, 3, 8, 4, 10, 3, 2, 9, 4, 5, 8, 5], \"Freq\": [0.996237576007843, 0.9869064688682556, 0.9952951073646545, 0.9924009442329407, 0.9673778414726257, 0.9932358264923096, 0.9727204442024231, 0.9868127107620239, 0.9852192401885986, 0.99666827917099, 0.99913090467453, 0.9802039861679077, 0.987910270690918, 0.9957632422447205, 0.9957175254821777, 0.9983139634132385, 0.9970521330833435, 0.9839428663253784, 0.9935824871063232, 0.9750780463218689, 0.970136821269989, 0.9948669075965881, 0.9978689551353455, 0.9902397394180298, 0.9869322776794434, 0.9933516383171082, 0.9843447804450989, 0.9924783706665039, 0.9936317801475525, 0.9926620125770569, 0.9968743324279785, 0.9936049580574036, 0.976300835609436, 0.9773517847061157, 0.9990267753601074, 0.9947234392166138, 0.9971780776977539, 0.985883355140686, 0.9943744540214539, 0.9887704253196716, 0.992690920829773, 0.9985882043838501, 0.9746885299682617, 0.9934338927268982, 0.9830538630485535, 0.9866209030151367, 0.9907759428024292, 0.9949561357498169, 0.9748239517211914, 0.9900367259979248, 0.9954481720924377, 0.9851152300834656, 0.999361515045166, 0.9858143329620361, 0.9882639646530151, 0.9834608435630798, 0.986412763595581, 0.9915363788604736, 0.951372504234314, 0.9608123302459717, 0.9849247932434082, 0.9900928735733032, 0.9913673996925354, 0.98145991563797, 0.9919754862785339, 0.9971858859062195, 0.9984034895896912, 0.9960786700248718, 0.9959840178489685, 0.9955731630325317, 0.9748072624206543, 0.9869149923324585, 0.9984999895095825, 0.9937872886657715, 0.9849360585212708, 0.9952799677848816, 0.9780048131942749, 0.98860764503479, 0.9671701192855835, 0.9852083921432495, 0.994503378868103, 0.9786673784255981, 0.9805903434753418, 0.9930052757263184, 0.9809961318969727, 0.998461902141571, 0.9957864284515381, 0.976945161819458, 0.9846404790878296, 0.995038628578186, 0.9833424091339111, 0.9903854727745056, 0.9984755516052246, 0.997536301612854, 0.9952918291091919, 0.9841665625572205, 0.992027223110199, 0.9835071563720703, 0.9963192939758301, 0.9863577485084534, 0.9929534792900085, 0.984901487827301, 0.9666205048561096, 0.9947191476821899, 0.9798071980476379, 0.9821965098381042, 0.9995430707931519, 0.9684931039810181, 0.9798219203948975, 0.9996724724769592, 0.9826275110244751, 0.9930436611175537, 0.9982967972755432, 0.9740583896636963, 0.9623731374740601, 0.9956488013267517, 0.979388952255249, 0.9943156838417053, 0.9886179566383362, 0.993915319442749, 0.9820380210876465, 0.985943615436554, 0.9682344794273376, 0.9756984710693359, 0.9318485260009766, 0.99898362159729, 0.9990481734275818, 0.996920108795166, 0.990689218044281, 0.9919594526290894, 0.9862947463989258, 0.9566404819488525, 0.9948623180389404, 0.9815429449081421, 0.9780163168907166, 0.9955403208732605, 0.9851067662239075, 0.9844759702682495, 0.9972714185714722, 0.9879032969474792, 0.957356333732605, 0.9942573308944702, 0.9875555634498596, 0.9973868727684021, 0.9985445141792297, 0.994814932346344, 0.9868066906929016, 0.9942488074302673, 0.9954876899719238, 0.9874470233917236, 0.9747408032417297, 0.9673301577568054, 0.9949318170547485, 0.9906793832778931, 0.9941383600234985, 0.9972348213195801, 0.9943039417266846, 0.9978562593460083, 0.9990622401237488, 0.9964161515235901, 0.9679667949676514, 0.9930242896080017, 0.9996653199195862, 0.983671247959137, 0.996003270149231, 0.9803605675697327, 0.9810202717781067, 0.9956508874893188, 0.9284895062446594, 0.9978074431419373, 0.9956006407737732, 0.9648174047470093, 0.9874176383018494, 0.994361162185669, 0.9953798055648804, 0.9890303611755371, 0.9839579463005066, 0.9970524311065674, 0.9801293015480042, 0.9878028631210327, 0.9984802603721619, 0.9933833479881287, 0.9977440237998962, 0.9807014465332031, 0.9962629675865173, 0.9866055846214294, 0.9914883375167847, 0.9925086498260498, 0.9947160482406616, 0.9524742960929871, 0.9910420179367065, 0.9555802345275879, 0.9770807027816772, 0.9987378120422363, 0.9848468899726868, 0.9993593096733093, 0.9993206858634949, 0.9811416268348694, 0.9845675230026245, 0.9863627552986145, 0.9985641241073608, 0.996767520904541, 0.9885458946228027, 0.9942728877067566, 0.988132894039154, 0.9830803275108337, 0.9868977069854736, 0.9827809929847717, 0.9716894030570984, 0.9953290820121765, 0.9797371625900269, 0.9888119101524353, 0.9706296920776367, 0.9882672429084778, 0.9938482642173767, 0.9964895844459534, 0.9946056008338928, 0.9971765875816345, 0.9944311380386353, 0.9936881065368652, 0.9985102415084839, 0.9992835521697998, 0.9931142926216125, 0.9869831800460815, 0.9986515045166016, 0.9462072849273682, 0.997631847858429, 0.9896177053451538, 0.9891818761825562, 0.9899308085441589, 0.9967370629310608, 0.954700767993927, 0.9909898042678833, 0.957570493221283, 0.9917134642601013, 0.977327823638916, 0.9978711605072021, 0.9711425304412842, 0.9888941049575806, 0.9909232258796692, 0.9976740479469299, 0.9735018610954285, 0.9929059147834778, 0.9876937866210938, 0.9926342368125916, 0.9852744936943054, 0.9873122572898865, 0.9874932169914246, 0.9920822978019714, 0.9961941242218018, 0.9738256335258484, 0.9945706129074097, 0.997020423412323, 0.9837735891342163, 0.9939948916435242, 0.9883934855461121, 0.9477038383483887, 0.9923523664474487, 0.974575936794281, 0.9791385531425476, 0.9569134712219238, 0.996200442314148, 0.9979708194732666, 0.9975379109382629, 0.9861337542533875, 0.9992802739143372, 0.993945300579071, 0.9952784776687622, 0.9904522895812988, 0.9779719710350037, 0.9789084792137146, 0.9846553802490234, 0.9951677918434143, 0.9974929690361023, 0.9855160713195801, 0.9770340919494629, 0.963832437992096, 0.9886408448219299, 0.9910998344421387, 0.9755830764770508, 0.9826593399047852, 0.9944338798522949, 0.992896556854248, 0.9807835817337036, 0.9937929511070251, 0.9953334331512451, 0.9868646264076233, 0.9903489947319031, 0.9983910918235779, 0.9982537031173706, 0.9939863681793213, 0.989430844783783, 0.9804148077964783, 0.978682816028595, 0.9855567216873169, 0.9994320273399353, 0.9804627895355225, 0.995540201663971, 0.9958974719047546, 0.9959750771522522, 0.9921830892562866], \"Term\": [\"able\", \"access\", \"accessory\", \"account\", \"activation\", \"amazing\", \"amazon\", \"amount\", \"annoying\", \"app\", \"apple\", \"arrive\", \"att\", \"awesome\", \"bad\", \"battery\", \"big\", \"bill\", \"bit\", \"blue\", \"bottom\", \"box\", \"brand\", \"broke\", \"broken\", \"business\", \"button\", \"buy\", \"buying\", \"cable\", \"call\", \"camera\", \"capacity\", \"car\", \"card\", \"carrier\", \"case\", \"cause\", \"cell\", \"certain\", \"charge\", \"charger\", \"charm\", \"cheap\", \"claim\", \"clarity\", \"clean\", \"color\", \"communication\", \"company\", \"complaint\", \"computer\", \"condition\", \"connect\", \"contact\", \"contract\", \"cord\", \"couple\", \"cover\", \"crap\", \"current\", \"customer\", \"damage\", \"date\", \"datum\", \"daughter\", \"day\", \"deal\", \"defective\", \"delivery\", \"dent\", \"described\", \"description\", \"device\", \"dirty\", \"disappointed\", \"dollar\", \"downside\", \"due\", \"earphone\", \"easy\", \"effective\", \"email\", \"enough\", \"excelent\", \"excellent\", \"expectation\", \"expense\", \"expensive\", \"experience\", \"extra\", \"fact\", \"fast\", \"fine\", \"first\", \"fit\", \"fix\", \"flawless\", \"friend\", \"frustrating\", \"full\", \"function\", \"get\", \"gift\", \"gig\", \"glass\", \"good\", \"granddaughter\", \"grandson\", \"great\", \"guy\", \"half\", \"happy\", \"hard\", \"hassle\", \"headphone\", \"heavy\", \"help\", \"horrible\", \"hour\", \"hurry\", \"ill\", \"impressed\", \"info\", \"insurance\", \"iphone\", \"issue\", \"item\", \"junk\", \"key\", \"kid\", \"kit\", \"last\", \"less\", \"letter\", \"life\", \"line\", \"listing\", \"little\", \"local\", \"lock\", \"long\", \"look\", \"lot\", \"love\", \"low\", \"major\", \"many\", \"memory\", \"mention\", \"metro_pc\", \"microphone\", \"minor\", \"minute\", \"mistake\", \"mobile\", \"model\", \"money\", \"month\", \"much\", \"nervous\", \"network\", \"new\", \"next\", \"nice\", \"notice\", \"noticeable\", \"number\", \"okay\", \"old\", \"one\", \"online\", \"open\", \"order\", \"original\", \"overall\", \"package\", \"part\", \"pay\", \"people\", \"perfect\", \"person\", \"phone\", \"photo\", \"picture\", \"pink\", \"plan\", \"plastic\", \"pleased\", \"plugged\", \"power\", \"present\", \"previous\", \"price\", \"primary\", \"problem\", \"product\", \"program\", \"protector\", \"provider\", \"purchase\", \"quality\", \"question\", \"quick\", \"read\", \"real\", \"reason\", \"reasonable\", \"recommend\", \"refund\", \"refurbished\", \"regular\", \"reliable\", \"repair\", \"replace\", \"replacement\", \"return\", \"review\", \"right\", \"satisfied\", \"scratch\", \"screen\", \"search\", \"self\", \"seller\", \"selling\", \"service\", \"set\", \"several\", \"shape\", \"shipping\", \"shoddy\", \"short\", \"shut\", \"side\", \"significant\", \"sim\", \"single_scratch\", \"sister\", \"skeptical\", \"small\", \"solution\", \"son\", \"song\", \"sound\", \"space\", \"speaker\", \"speed\", \"sprint\", \"star\", \"static\", \"storage\", \"store\", \"support\", \"sure\", \"surprise\", \"sweet\", \"switch\", \"system\", \"task\", \"tear\", \"text\", \"thank\", \"thing\", \"thought\", \"time\", \"today\", \"top\", \"trouble\", \"turn\", \"unable\", \"unlimited\", \"unlock\", \"unlocked\", \"unsatisfied\", \"unusable\", \"unused\", \"update\", \"upgrade\", \"upset\", \"useful\", \"useless\", \"value\", \"vendor\", \"verizon\", \"warranty\", \"waste\", \"water\", \"way\", \"week\", \"well\", \"white\", \"wireless\", \"wish\", \"wonderful\", \"work\", \"working\", \"worth\", \"wrong\", \"year\", \"yesterday\"]}, \"R\": 30, \"lambda.step\": 0.01, \"plot.opts\": {\"xlab\": \"PC1\", \"ylab\": \"PC2\"}, \"topic.order\": [10, 9, 1, 8, 3, 2, 4, 5, 7, 6]};\n",
       "\n",
       "function LDAvis_load_lib(url, callback){\n",
       "  var s = document.createElement('script');\n",
       "  s.src = url;\n",
       "  s.async = true;\n",
       "  s.onreadystatechange = s.onload = callback;\n",
       "  s.onerror = function(){console.warn(\"failed to load library \" + url);};\n",
       "  document.getElementsByTagName(\"head\")[0].appendChild(s);\n",
       "}\n",
       "\n",
       "if(typeof(LDAvis) !== \"undefined\"){\n",
       "   // already loaded: just create the visualization\n",
       "   !function(LDAvis){\n",
       "       new LDAvis(\"#\" + \"ldavis_el48371398884875022562086268813\", ldavis_el48371398884875022562086268813_data);\n",
       "   }(LDAvis);\n",
       "}else if(typeof define === \"function\" && define.amd){\n",
       "   // require.js is available: use it to load d3/LDAvis\n",
       "   require.config({paths: {d3: \"https://cdnjs.cloudflare.com/ajax/libs/d3/3.5.5/d3.min\"}});\n",
       "   require([\"d3\"], function(d3){\n",
       "      window.d3 = d3;\n",
       "      LDAvis_load_lib(\"https://cdn.rawgit.com/bmabey/pyLDAvis/files/ldavis.v1.0.0.js\", function(){\n",
       "        new LDAvis(\"#\" + \"ldavis_el48371398884875022562086268813\", ldavis_el48371398884875022562086268813_data);\n",
       "      });\n",
       "    });\n",
       "}else{\n",
       "    // require.js not available: dynamically load d3 & LDAvis\n",
       "    LDAvis_load_lib(\"https://cdnjs.cloudflare.com/ajax/libs/d3/3.5.5/d3.min.js\", function(){\n",
       "         LDAvis_load_lib(\"https://cdn.rawgit.com/bmabey/pyLDAvis/files/ldavis.v1.0.0.js\", function(){\n",
       "                 new LDAvis(\"#\" + \"ldavis_el48371398884875022562086268813\", ldavis_el48371398884875022562086268813_data);\n",
       "            })\n",
       "         });\n",
       "}\n",
       "</script>"
      ],
      "text/plain": [
       "PreparedData(topic_coordinates=              x         y  topics  cluster       Freq\n",
       "topic                                                \n",
       "9     -0.433357 -0.013511       1        1  18.647036\n",
       "8     -0.000279 -0.198921       2        1  11.755056\n",
       "0      0.063220 -0.033829       3        1  11.711370\n",
       "7      0.013998  0.405602       4        1   9.965907\n",
       "2      0.059242 -0.033796       5        1   9.107787\n",
       "1      0.063615 -0.026743       6        1   8.900707\n",
       "3      0.064210 -0.022114       7        1   8.494212\n",
       "4      0.061897 -0.024261       8        1   8.023774\n",
       "6      0.055134 -0.028967       9        1   7.468640\n",
       "5      0.052318 -0.023460      10        1   5.925513, topic_info=     Category         Freq     Term        Total  loglift  logprob\n",
       "4     Default  3275.000000    great  3275.000000  30.0000  30.0000\n",
       "23    Default  2475.000000      new  2475.000000  29.0000  29.0000\n",
       "60    Default  2508.000000     good  2508.000000  28.0000  28.0000\n",
       "127   Default  1555.000000  product  1555.000000  27.0000  27.0000\n",
       "54    Default  1531.000000     time  1531.000000  26.0000  26.0000\n",
       "...       ...          ...      ...          ...      ...      ...\n",
       "642   Topic10    22.055559  selling    23.250719   2.7731  -5.6115\n",
       "413   Topic10    21.784960     lock    22.979950   2.7725  -5.6238\n",
       "2756  Topic10    21.811657   shoddy    23.043869   2.7709  -5.6226\n",
       "436   Topic10    20.345051     okay    21.540361   2.7688  -5.6922\n",
       "2855  Topic10    20.572281   unused    21.788019   2.7685  -5.6811\n",
       "\n",
       "[331 rows x 6 columns], token_table=      Topic      Freq        Term\n",
       "term                             \n",
       "68        3  0.996238        able\n",
       "297       8  0.986906      access\n",
       "761       9  0.995295   accessory\n",
       "756       7  0.992401     account\n",
       "2675      7  0.967378  activation\n",
       "...     ...       ...         ...\n",
       "1604      9  0.980463     working\n",
       "86        4  0.995540       worth\n",
       "107       5  0.995897       wrong\n",
       "188       8  0.995975        year\n",
       "1837      5  0.992183   yesterday\n",
       "\n",
       "[301 rows x 3 columns], R=30, lambda_step=0.01, plot_opts={'xlab': 'PC1', 'ylab': 'PC2'}, topic_order=[10, 9, 1, 8, 3, 2, 4, 5, 7, 6])"
      ]
     },
     "execution_count": 67,
     "metadata": {},
     "output_type": "execute_result"
    }
   ],
   "source": [
    "# Visualize the topics\n",
    "pyLDAvis.enable_notebook()\n",
    "vis = pyLDAvis.gensim.prepare(lda_model, corpus, id2word)\n",
    "vis"
   ]
  },
  {
   "cell_type": "code",
   "execution_count": null,
   "metadata": {},
   "outputs": [],
   "source": []
  }
 ],
 "metadata": {
  "kernelspec": {
   "display_name": "Python 3",
   "language": "python",
   "name": "python3"
  },
  "language_info": {
   "codemirror_mode": {
    "name": "ipython",
    "version": 3
   },
   "file_extension": ".py",
   "mimetype": "text/x-python",
   "name": "python",
   "nbconvert_exporter": "python",
   "pygments_lexer": "ipython3",
   "version": "3.7.7"
  }
 },
 "nbformat": 4,
 "nbformat_minor": 4
}
